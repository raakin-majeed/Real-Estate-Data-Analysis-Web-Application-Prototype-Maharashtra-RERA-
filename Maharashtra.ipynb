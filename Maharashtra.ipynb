{
 "cells": [
  {
   "cell_type": "code",
   "execution_count": 29,
   "id": "3a8aa642",
   "metadata": {},
   "outputs": [],
   "source": [
    "import pandas as pd\n",
    "import matplotlib.pyplot as plt\n",
    "import datetime as dt\n",
    "import csv\n",
    "import time as time\n",
    "import sys\n",
    "import numpy as np\n",
    "import random\n",
    "import mplcursors"
   ]
  },
  {
   "cell_type": "code",
   "execution_count": 30,
   "id": "e5604fe2",
   "metadata": {},
   "outputs": [],
   "source": [
    "df = pd.read_csv('maharashtra (1).csv')"
   ]
  },
  {
   "cell_type": "markdown",
   "id": "96687eae",
   "metadata": {},
   "source": [
    "df"
   ]
  },
  {
   "cell_type": "code",
   "execution_count": 31,
   "id": "02bddfdc",
   "metadata": {},
   "outputs": [
    {
     "name": "stderr",
     "output_type": "stream",
     "text": [
      "C:\\Users\\raaki\\AppData\\Local\\Temp\\ipykernel_26844\\501553496.py:1: UserWarning: Parsing dates in %d-%m-%Y format when dayfirst=False (the default) was specified. Pass `dayfirst=True` or specify a format to silence this warning.\n",
      "  df['registration_on_dated'] = pd.to_datetime(df['registration_on_dated'])\n"
     ]
    }
   ],
   "source": [
    "df['registration_on_dated'] = pd.to_datetime(df['registration_on_dated'])"
   ]
  },
  {
   "cell_type": "code",
   "execution_count": null,
   "id": "401a3d69",
   "metadata": {},
   "outputs": [],
   "source": [
    "df['month'] = df['registration_on_dated'].dt.strftime('%b')\n",
    "df['year'] = df['registration_on_dated'].dt.strftime('%y')"
   ]
  },
  {
   "cell_type": "code",
   "execution_count": null,
   "id": "741d4fb9",
   "metadata": {},
   "outputs": [],
   "source": [
    "df['date'] = df['month'].astype(str) + ' ' + df['year'].astype(str)"
   ]
  },
  {
   "cell_type": "code",
   "execution_count": null,
   "id": "31e4fb95",
   "metadata": {},
   "outputs": [],
   "source": [
    "prop_list = df['property_name'].unique()\n",
    "np.set_printoptions(threshold=sys.maxsize)"
   ]
  },
  {
   "cell_type": "markdown",
   "id": "634a8c13",
   "metadata": {},
   "source": [
    "prop_list"
   ]
  },
  {
   "cell_type": "code",
   "execution_count": null,
   "id": "75197b9c",
   "metadata": {
    "scrolled": false
   },
   "outputs": [],
   "source": [
    "#prop_name = input(\"Enter a property name: \")\n",
    "prop_name = random.choice(prop_list)\n",
    "\n",
    "if prop_name not in prop_list:\n",
    "    print(\"Invalid property name. Please enter a valid property name.\")\n",
    "else:\n",
    "    filtered_df = df[df['property_name'] == prop_name]\n",
    "    #averaged_df = filtered_df.groupby('registration_on_dated')['rate_per_sqft'].mean()\n",
    "    newav = filtered_df.groupby('date')['rate_per_sqft'].mean()\n",
    "    if newav.empty:\n",
    "        print(\"No data found for the selected property.\")\n",
    "    else:\n",
    "        #x = averaged_df.index\n",
    "        x = newav.index\n",
    "        #y = averaged_df.values\n",
    "        y = newav.values\n",
    "        ax = plt.plot(x,y, marker = '.', markersize = 10, markeredgecolor = 'blue')\n",
    "        plt.title(prop_name)\n",
    "        plt.xlabel('Event Month')\n",
    "        plt.ylabel('Rate')\n",
    "        plt.xticks(rotation=40)\n",
    "plt.show()"
   ]
  },
  {
   "cell_type": "markdown",
   "id": "70d73d88",
   "metadata": {},
   "source": [
    "loc_list = df['location'].unique()\n",
    "np.set_printoptions(threshold=sys.maxsize)"
   ]
  },
  {
   "cell_type": "markdown",
   "id": "941bc9e4",
   "metadata": {},
   "source": [
    "#loc_name = input(\"Enter a property name: \")\n",
    "loc_name = random.choice(loc_list)\n",
    "\n",
    "if loc_name not in loc_list:\n",
    "    print(\"Invalid property name. Please enter a valid property name.\")\n",
    "else:\n",
    "    filtered2_df = df[df['location'] == loc_name]\n",
    "    #averaged_df = filtered_df.groupby('registration_on_dated')['rate_per_sqft'].mean()\n",
    "    newlocav = filtered2_df.groupby('date')['rate_per_sqft'].mean()\n",
    "    if newlocav.empty:\n",
    "        print(\"No data found for the selected property.\")\n",
    "    else:\n",
    "        #x = averaged_df.index\n",
    "        x = newlocav.index\n",
    "        #y = averaged_df.values\n",
    "        y = newlocav.values\n",
    "        ax = plt.plot(x,y, marker = '.', markersize = 10, markeredgecolor = 'blue')\n",
    "        plt.title(loc_name)\n",
    "        plt.xlabel('Event Month')\n",
    "        plt.ylabel('Rate')\n",
    "        plt.xticks(rotation=40)\n",
    "\n",
    "plt.show()"
   ]
  },
  {
   "cell_type": "markdown",
   "id": "297c55f5",
   "metadata": {},
   "source": [
    "df[\"quarter_year\"] = df[\"registration_on_dated\"].dt.to_period(\"Q\")\n",
    "df['qdate'] = df['quarter_year'].astype(str)"
   ]
  },
  {
   "cell_type": "markdown",
   "id": "83111cbd",
   "metadata": {},
   "source": [
    "loc_name = input(\"Enter a property name: \")\n",
    "#oc_name = random.choice(loc_list)\n",
    "\n",
    "if loc_name not in loc_list:\n",
    "    print(\"Invalid property name. Please enter a valid property name.\")\n",
    "else:\n",
    "    filtered2_df = df[df['location'] == loc_name]\n",
    "    #averaged_df = filtered_df.groupby('registration_on_dated')['rate_per_sqft'].mean()\n",
    "    newlocav1 = filtered2_df.groupby('qdate')['rate_per_sqft'].mean()\n",
    "    if newlocav1.empty:\n",
    "        print(\"No data found for the selected property.\")\n",
    "    else:\n",
    "        #x = averaged_df.index\n",
    "        x = newlocav1.index\n",
    "        #y = averaged_df.values\n",
    "        y = newlocav1.values\n",
    "        ax = plt.plot(x,y, marker = '.', markersize = 10, markeredgecolor = 'blue')\n",
    "        plt.title(loc_name)\n",
    "        plt.xlabel('Event Month')\n",
    "        plt.ylabel('Rate')\n",
    "        plt.xticks(rotation=40)\n",
    "\n",
    "plt.show()"
   ]
  },
  {
   "cell_type": "markdown",
   "id": "23671865",
   "metadata": {
    "scrolled": true
   },
   "source": [
    "df"
   ]
  },
  {
   "cell_type": "markdown",
   "id": "034505e6",
   "metadata": {},
   "source": [
    "trans_type = df['transaction_category'].unique()"
   ]
  },
  {
   "cell_type": "markdown",
   "id": "8b388e28",
   "metadata": {},
   "source": [
    "trans_type"
   ]
  },
  {
   "cell_type": "markdown",
   "id": "2b47fac1",
   "metadata": {},
   "source": [
    "print(\"transaction types:\")\n",
    "for i, ttype in enumerate(trans_type, 1):\n",
    "    print(f\"{i}. {ttype}\")\n",
    "selection = int(input(\"Enter the number corresponding to the transaction type: \"))\n",
    "selected_transaction_type = trans_type[selection - 1]\n",
    "loc_name = input(\"Enter a property name: \")\n",
    "#loc_name = random.choice(loc_list)\n",
    "\n",
    "if loc_name not in loc_list:\n",
    "    print(\"Invalid property name. Please enter a valid property name.\")\n",
    "else:\n",
    "    filtered3_df = df[(df['location'] == loc_name) & (df[\"transaction_category\"] == selected_transaction_type)]\n",
    "    #averaged_df = filtered_df.groupby('registration_on_dated')['rate_per_sqft'].mean()\n",
    "    newlocav2 = filtered3_df.groupby('qdate')['rate_per_sqft'].mean()\n",
    "    if newlocav2.empty:\n",
    "        print(\"No data found for the selected property.\")\n",
    "    else:\n",
    "        #x = averaged_df.index\n",
    "        x = newlocav2.index\n",
    "        #y = averaged_df.values\n",
    "        y = newlocav2.values\n",
    "        ax = plt.plot(x,y, marker = '.', markersize = 10, markeredgecolor = 'blue')\n",
    "        plt.title(loc_name)\n",
    "        plt.xlabel('Event Month')\n",
    "        plt.ylabel('Rate')\n",
    "        plt.xticks(rotation=40)\n",
    "\n",
    "plt.show()"
   ]
  },
  {
   "cell_type": "markdown",
   "id": "70af5340",
   "metadata": {},
   "source": [
    "filtered_df"
   ]
  },
  {
   "cell_type": "markdown",
   "id": "fafe0d02",
   "metadata": {},
   "source": [
    "newlocav2"
   ]
  },
  {
   "cell_type": "markdown",
   "id": "98b73104",
   "metadata": {},
   "source": [
    "newlocav"
   ]
  },
  {
   "cell_type": "markdown",
   "id": "9058192b",
   "metadata": {},
   "source": [
    "newlocav1"
   ]
  },
  {
   "cell_type": "code",
   "execution_count": null,
   "id": "e93c4979",
   "metadata": {},
   "outputs": [],
   "source": []
  }
 ],
 "metadata": {
  "kernelspec": {
   "display_name": "Python 3 (ipykernel)",
   "language": "python",
   "name": "python3"
  },
  "language_info": {
   "codemirror_mode": {
    "name": "ipython",
    "version": 3
   },
   "file_extension": ".py",
   "mimetype": "text/x-python",
   "name": "python",
   "nbconvert_exporter": "python",
   "pygments_lexer": "ipython3",
   "version": "3.10.9"
  }
 },
 "nbformat": 4,
 "nbformat_minor": 5
}
