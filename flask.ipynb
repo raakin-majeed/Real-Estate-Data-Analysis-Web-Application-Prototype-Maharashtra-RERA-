{
 "cells": [
  {
   "cell_type": "code",
   "execution_count": 1,
   "id": "6c77514f",
   "metadata": {},
   "outputs": [],
   "source": [
    "import pandas as pd\n",
    "import re"
   ]
  },
  {
   "cell_type": "markdown",
   "id": "b0375525",
   "metadata": {},
   "source": [
    "#df = pd.read_csv('file1.csv')\n",
    "\n",
    "type = []\n",
    "a = {'type': type}\n",
    "#def regex(user_inp):\n",
    "user_inp = input(\"enter \")\n",
    "#pattern1 = r'([a-zA-Z\\. ])?([\\.])?(([0-9])+(([\\.])?([0-9])+)?(\\s{0,})+(bhk|rk))+([a-zA-Z0-9,.&])?'\n",
    "#replacement1 = r'\\4\\9'\n",
    "df = pd.read_csv('file1.csv')\n",
    "data = df['type'].append(user_inp)\n",
    "df['type'] = df['type'].str.replace(pattern1, replacement1, case = False, regex=True)\n",
    "df\n",
    "    \n",
    "#('3 bhk')"
   ]
  },
  {
   "cell_type": "code",
   "execution_count": null,
   "id": "2cc6d5bb",
   "metadata": {},
   "outputs": [],
   "source": [
    "user = input(\"enter \")\n",
    "elements = re.findall(r'([a-zA-Z\\. ])?([\\.])?(([0-9])+(([\\.])?([0-9])+)?(\\s{0,})+(bhk|rk))+([a-zA-Z0-9,.&])?',user,re.X|re.M|re.I)\n",
    "lenght = len(elements[0][2])\n",
    "if lenght in range(5,8):\n",
    "    print(elements[0][2])\n",
    "else:\n",
    "    print(\"wrong input\", user)"
   ]
  },
  {
   "cell_type": "markdown",
   "id": "119dbd6a",
   "metadata": {},
   "source": [
    "def regex(user):\n",
    "    pattern1 = r'([a-zA-Z\\. ])?([\\.])?(([0-9])+(([\\.])?([0-9])+)?(\\s{0,})+(bhk|rk))+([a-zA-Z0-9,.&])?'\n",
    "    replacement1 = r'\\4\\9'\n",
    "    result = df.str.replace(pattern1, replacement1)"
   ]
  },
  {
   "cell_type": "markdown",
   "id": "18d60576",
   "metadata": {},
   "source": [
    " def regex(d):\n",
    "     str = \"\"\n",
    "     elements = re.findall(r'[a-zA-Z\\. ])?([\\.])?(([0-9])+(([\\.])?([0-9])+)?(\\s{0,})+(bhk|rk))+([a-zA-Z0-9,.&])?',d,re.X|re.M|re.I)\n",
    "     if (len(elements) > 0):    \n",
    "         if (len(elements[0]) ==  2 ):\n",
    "             str =  elements[0][0] + \" \" + elements[0][1]\n",
    "         else:\n",
    "             str = d\n",
    "     else:\n",
    "         str = d\n",
    "     return str\n",
    "\n",
    "regex('flat 5 bhk')"
   ]
  }
 ],
 "metadata": {
  "kernelspec": {
   "display_name": "Python 3 (ipykernel)",
   "language": "python",
   "name": "python3"
  },
  "language_info": {
   "codemirror_mode": {
    "name": "ipython",
    "version": 3
   },
   "file_extension": ".py",
   "mimetype": "text/x-python",
   "name": "python",
   "nbconvert_exporter": "python",
   "pygments_lexer": "ipython3",
   "version": "3.10.9"
  }
 },
 "nbformat": 4,
 "nbformat_minor": 5
}
